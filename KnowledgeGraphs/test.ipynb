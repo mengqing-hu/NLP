{
 "cells": [
  {
   "cell_type": "code",
   "execution_count": 1,
   "id": "43eabd5c",
   "metadata": {},
   "outputs": [],
   "source": [
    "from dotenv import load_dotenv\n",
    "import os\n",
    "load_dotenv()  \n",
    "api_key = os.getenv(\"OPENAI_API_KEY\")"
   ]
  },
  {
   "cell_type": "code",
   "execution_count": 2,
   "id": "e2270acf",
   "metadata": {},
   "outputs": [
    {
     "name": "stderr",
     "output_type": "stream",
     "text": [
      "/Users/humengqing/.pyenv/versions/3.10.13/lib/python3.10/site-packages/tqdm/auto.py:21: TqdmWarning: IProgress not found. Please update jupyter and ipywidgets. See https://ipywidgets.readthedocs.io/en/stable/user_install.html\n",
      "  from .autonotebook import tqdm as notebook_tqdm\n",
      "/Users/humengqing/.pyenv/versions/3.10.13/lib/python3.10/site-packages/langchain_openai/chat_models/base.py:1913: UserWarning: Cannot use method='json_schema' with model gpt-4-turbo since it doesn't support OpenAI's Structured Output API. You can see supported models here: https://platform.openai.com/docs/guides/structured-outputs#supported-models. To fix this warning, set `method='function_calling'. Overriding to method='function_calling'.\n",
      "  warnings.warn(\n"
     ]
    }
   ],
   "source": [
    "from langchain_experimental.graph_transformers import LLMGraphTransformer\n",
    "from langchain_openai import ChatOpenAI\n",
    "\n",
    "llm = ChatOpenAI(temperature=0, model_name=\"gpt-4-turbo\")\n",
    "\n",
    "llm_transformer = LLMGraphTransformer(llm=llm)"
   ]
  },
  {
   "cell_type": "code",
   "execution_count": 3,
   "id": "3de14f0f",
   "metadata": {},
   "outputs": [
    {
     "name": "stdout",
     "output_type": "stream",
     "text": [
      "Nodes:[Node(id='Mengqing Hu', type='Person', properties={}), Node(id='2001', type='Year', properties={}), Node(id='Chinese', type='Nationality', properties={}), Node(id='Software Engineer', type='Profession', properties={}), Node(id='Researcher', type='Profession', properties={}), Node(id='Master’S Degree In Computational Modeling And Simulation (Visual Computing)', type='Degree', properties={}), Node(id='Tu Dresden', type='Institution', properties={}), Node(id='Fraunhofer Institute For Machine Tools And Forming Technology (Iwu)', type='Institution', properties={}), Node(id='Institute Of Mechatronic Engineering At Tu Dresden', type='Institution', properties={}), Node(id='Fsd Fahrzeugsystemdaten Gmbh', type='Company', properties={}), Node(id='China', type='Country', properties={}), Node(id='Web Development', type='Field', properties={}), Node(id='Big Data Processing', type='Field', properties={}), Node(id='Machine Learning', type='Field', properties={}), Node(id='Computer Vision', type='Field', properties={}), Node(id='Ai-Driven Scientific Research', type='Field', properties={})]\n",
      "Relationships:[Relationship(source=Node(id='Mengqing Hu', type='Person', properties={}), target=Node(id='2001', type='Year', properties={}), type='BORN', properties={}), Relationship(source=Node(id='Mengqing Hu', type='Person', properties={}), target=Node(id='Chinese', type='Nationality', properties={}), type='NATIONALITY', properties={}), Relationship(source=Node(id='Mengqing Hu', type='Person', properties={}), target=Node(id='Software Engineer', type='Profession', properties={}), type='PROFESSION', properties={}), Relationship(source=Node(id='Mengqing Hu', type='Person', properties={}), target=Node(id='Researcher', type='Profession', properties={}), type='PROFESSION', properties={}), Relationship(source=Node(id='Mengqing Hu', type='Person', properties={}), target=Node(id='Master’S Degree In Computational Modeling And Simulation (Visual Computing)', type='Degree', properties={}), type='PURSUING', properties={}), Relationship(source=Node(id='Mengqing Hu', type='Person', properties={}), target=Node(id='Tu Dresden', type='Institution', properties={}), type='STUDYING_AT', properties={}), Relationship(source=Node(id='Mengqing Hu', type='Person', properties={}), target=Node(id='Fraunhofer Institute For Machine Tools And Forming Technology (Iwu)', type='Institution', properties={}), type='WORKED_AT', properties={}), Relationship(source=Node(id='Mengqing Hu', type='Person', properties={}), target=Node(id='Institute Of Mechatronic Engineering At Tu Dresden', type='Institution', properties={}), type='WORKED_AT', properties={}), Relationship(source=Node(id='Mengqing Hu', type='Person', properties={}), target=Node(id='Fsd Fahrzeugsystemdaten Gmbh', type='Company', properties={}), type='WORKED_AT', properties={}), Relationship(source=Node(id='Mengqing Hu', type='Person', properties={}), target=Node(id='China', type='Country', properties={}), type='INTERNED_IN', properties={}), Relationship(source=Node(id='Mengqing Hu', type='Person', properties={}), target=Node(id='Web Development', type='Field', properties={}), type='INTERNED_IN', properties={}), Relationship(source=Node(id='Mengqing Hu', type='Person', properties={}), target=Node(id='Big Data Processing', type='Field', properties={}), type='INTERNED_IN', properties={}), Relationship(source=Node(id='Mengqing Hu', type='Person', properties={}), target=Node(id='Machine Learning', type='Field', properties={}), type='INTEREST', properties={}), Relationship(source=Node(id='Mengqing Hu', type='Person', properties={}), target=Node(id='Computer Vision', type='Field', properties={}), type='INTEREST', properties={}), Relationship(source=Node(id='Mengqing Hu', type='Person', properties={}), target=Node(id='Ai-Driven Scientific Research', type='Field', properties={}), type='INTEREST', properties={})]\n"
     ]
    }
   ],
   "source": [
    "from langchain_core.documents import Document\n",
    "\n",
    "text = \"\"\"\n",
    "Mengqing Hu, born in 2001, is a Chinese software engineer and researcher currently pursuing a Master’s degree in Computational Modeling and Simulation (Visual Computing) at TU Dresden.\n",
    "She has worked as a student assistant at the Fraunhofer Institute for Machine Tools and Forming Technology (IWU) and the Institute of Mechatronic Engineering at TU Dresden, contributing to projects on CNC data visualization and deep learning for additive manufacturing (OCT image analysis).\n",
    "Before that, she was a team member at FSD Fahrzeugsystemdaten GmbH, developing semantic search pipelines and integrating large language models (LLMs) for knowledge retrieval and web applications using Django and LangChain.\n",
    "Her earlier internships in China focused on web development and big data processing using SpringBoot, Vue, and Hadoop.\n",
    "She is known for her adaptability, analytical thinking, and enthusiasm for machine learning, computer vision, and AI-driven scientific research.\n",
    "\"\"\"\n",
    "documents = [Document(page_content=text)]\n",
    "graph_documents = await llm_transformer.aconvert_to_graph_documents(documents)\n",
    "print(f\"Nodes:{graph_documents[0].nodes}\")\n",
    "print(f\"Relationships:{graph_documents[0].relationships}\")"
   ]
  },
  {
   "cell_type": "code",
   "execution_count": 4,
   "id": "b9ffdad0",
   "metadata": {},
   "outputs": [
    {
     "name": "stdout",
     "output_type": "stream",
     "text": [
      "Graph saved to /Users/humengqing/Documents/Code/VSCode/NLP/KnowledgeGraphs/knowledge_graph.html\n"
     ]
    }
   ],
   "source": [
    "from pyvis.network import Network\n",
    "import os\n",
    "\n",
    "def visualize_graph(graph_documents):\n",
    "    # Create Network\n",
    "    net = Network(height=\"1200px\", width=\"100%\", directed=True,\n",
    "                  notebook=False, bgcolor=\"#222222\", font_color=\"white\")\n",
    "\n",
    "    # Extract nodes and relationships\n",
    "    nodes = graph_documents[0].nodes\n",
    "    relationships = graph_documents[0].relationships\n",
    "\n",
    "    # Build lookup for valid nodes\n",
    "    node_dict = {node.id: node for node in nodes}\n",
    "\n",
    "    # Filter out invalid edges and collect valid node IDs\n",
    "    valid_edges = []\n",
    "    valid_node_ids = set()\n",
    "    for rel in relationships:\n",
    "        if rel.source.id in node_dict and rel.target.id in node_dict:\n",
    "            valid_edges.append(rel)\n",
    "            valid_node_ids.update([rel.source.id, rel.target.id])\n",
    "\n",
    "    # Track which nodes are part of any relationship\n",
    "    connected_node_ids = set()\n",
    "    for rel in relationships:\n",
    "        connected_node_ids.add(rel.source.id)\n",
    "        connected_node_ids.add(rel.target.id)\n",
    "\n",
    "    # Add valid nodes\n",
    "    for node_id in valid_node_ids:\n",
    "        node = node_dict[node_id]\n",
    "        try:\n",
    "            net.add_node(node.id, label=node.id, title=node.type, group=node.type)\n",
    "        except:\n",
    "            continue  # skip if error\n",
    "\n",
    "    # Add valid edges\n",
    "    for rel in valid_edges:\n",
    "        try:\n",
    "            net.add_edge(rel.source.id, rel.target.id, label=rel.type.lower())\n",
    "        except:\n",
    "            continue  # skip if error\n",
    "\n",
    "    # Configure physics and layout\n",
    "    net.set_options(\"\"\"\n",
    "    const options = {\n",
    "      \"physics\": {\n",
    "        \"forceAtlas2Based\": {\n",
    "          \"gravitationalConstant\": -100,\n",
    "          \"centralGravity\": 0.01,\n",
    "          \"springLength\": 200,\n",
    "          \"springConstant\": 0.08\n",
    "        },\n",
    "        \"minVelocity\": 0.75,\n",
    "        \"solver\": \"forceAtlas2Based\"\n",
    "      }\n",
    "    }\n",
    "    \"\"\")\n",
    "\n",
    "    # Save visualization\n",
    "    output_file = \"knowledge_graph.html\"\n",
    "    net.save_graph(output_file)\n",
    "    print(f\"Graph saved to {os.path.abspath(output_file)}\")\n",
    "\n",
    "    # Try to open in browser\n",
    "    try:\n",
    "        import webbrowser\n",
    "        webbrowser.open(f\"file:///{os.path.abspath(output_file)}\")\n",
    "    except:\n",
    "        print(\"Could not open browser automatically\")\n",
    "\n",
    "\n",
    "# Run the function\n",
    "visualize_graph(graph_documents)\n"
   ]
  },
  {
   "cell_type": "code",
   "execution_count": 5,
   "id": "c8ebc790",
   "metadata": {},
   "outputs": [
    {
     "name": "stderr",
     "output_type": "stream",
     "text": [
      "/Users/humengqing/.pyenv/versions/3.10.13/lib/python3.10/site-packages/langchain_openai/chat_models/base.py:1913: UserWarning: Cannot use method='json_schema' with model gpt-4-turbo since it doesn't support OpenAI's Structured Output API. You can see supported models here: https://platform.openai.com/docs/guides/structured-outputs#supported-models. To fix this warning, set `method='function_calling'. Overriding to method='function_calling'.\n",
      "  warnings.warn(\n"
     ]
    },
    {
     "name": "stdout",
     "output_type": "stream",
     "text": [
      "Nodes:[Node(id='Mengqing Hu', type='Person', properties={}), Node(id='Tu Dresden', type='Organization', properties={}), Node(id='Fraunhofer Institute For Machine Tools And Forming Technology (Iwu)', type='Organization', properties={}), Node(id='Institute Of Mechatronic Engineering At Tu Dresden', type='Organization', properties={}), Node(id='Fsd Fahrzeugsystemdaten Gmbh', type='Organization', properties={})]\n",
      "Relationships:[Relationship(source=Node(id='Mengqing Hu', type='Person', properties={}), target=Node(id='Tu Dresden', type='Organization', properties={}), type='WORKED_AT', properties={}), Relationship(source=Node(id='Mengqing Hu', type='Person', properties={}), target=Node(id='Fraunhofer Institute For Machine Tools And Forming Technology (Iwu)', type='Organization', properties={}), type='WORKED_AT', properties={}), Relationship(source=Node(id='Mengqing Hu', type='Person', properties={}), target=Node(id='Institute Of Mechatronic Engineering At Tu Dresden', type='Organization', properties={}), type='WORKED_AT', properties={}), Relationship(source=Node(id='Mengqing Hu', type='Person', properties={}), target=Node(id='Fsd Fahrzeugsystemdaten Gmbh', type='Organization', properties={}), type='WORKED_AT', properties={})]\n"
     ]
    }
   ],
   "source": [
    "llm_transformer_filtered = LLMGraphTransformer(\n",
    "    llm=llm,\n",
    "    allowed_nodes=[\"Person\",\"Organization\"],\n",
    "    allowed_relationships=[\"WORKED_AT\"],\n",
    ")\n",
    "graph_documents_filtered = await llm_transformer_filtered.aconvert_to_graph_documents(\n",
    "    documents\n",
    ")\n",
    "print(f\"Nodes:{graph_documents_filtered[0].nodes}\")\n",
    "print(f\"Relationships:{graph_documents_filtered[0].relationships}\")"
   ]
  },
  {
   "cell_type": "code",
   "execution_count": 6,
   "id": "4c1bb876",
   "metadata": {},
   "outputs": [
    {
     "name": "stdout",
     "output_type": "stream",
     "text": [
      "Graph saved to /Users/humengqing/Documents/Code/VSCode/NLP/KnowledgeGraphs/knowledge_graph.html\n"
     ]
    }
   ],
   "source": [
    "visualize_graph(graph_documents_filtered)"
   ]
  },
  {
   "cell_type": "markdown",
   "id": "b74581ac",
   "metadata": {},
   "source": [
    "#### Neo4j"
   ]
  },
  {
   "cell_type": "code",
   "execution_count": 7,
   "id": "b8c2a040",
   "metadata": {},
   "outputs": [],
   "source": [
    "from langchain_neo4j import Neo4jGraph\n",
    "graph = Neo4jGraph(\n",
    "    url=os.getenv(\"NEO4J_URI\"),\n",
    "    username=os.getenv(\"NEO4J_USERNAME\"),\n",
    "    password=os.getenv(\"NEO4J_PASSWORD\"),\n",
    ")\n",
    "graph.add_graph_documents(graph_documents)"
   ]
  },
  {
   "cell_type": "code",
   "execution_count": 8,
   "id": "a98bb106",
   "metadata": {},
   "outputs": [
    {
     "name": "stdout",
     "output_type": "stream",
     "text": [
      "[{'n': {'id': 'Computational Modeling And Simulation (Visual Computing)'}}]\n"
     ]
    }
   ],
   "source": [
    "customer_query = \"\"\"MATCH (n:`Field of study`) RETURN n LIMIT 25;\"\"\"\n",
    "results = graph.query(customer_query)\n",
    "print(results)"
   ]
  },
  {
   "cell_type": "code",
   "execution_count": 9,
   "id": "154a5f43",
   "metadata": {},
   "outputs": [
    {
     "name": "stdout",
     "output_type": "stream",
     "text": [
      "[{'p': [{'id': 'Mengqing Hu'}, 'WORKED_AT', {'id': 'Fraunhofer Institute For Machine Tools And Forming Technology (Iwu)'}]}, {'p': [{'id': 'Mengqing Hu'}, 'WORKED_AT', {'id': 'Institute Of Mechatronic Engineering At Tu Dresden'}]}, {'p': [{'id': 'Mengqing Hu'}, 'WORKED_AT', {'id': 'Fsd Fahrzeugsystemdaten Gmbh'}]}, {'p': [{'id': 'Mengqing Hu'}, 'WORKED_AT', {'id': 'Fraunhofer Institute For Machine Tools And Forming Technology (Iwu)'}]}, {'p': [{'id': 'Mengqing Hu'}, 'WORKED_AT', {'id': 'Institute Of Mechatronic Engineering At Tu Dresden'}]}, {'p': [{'id': 'Mengqing Hu'}, 'WORKED_AT', {'id': 'Fsd Fahrzeugsystemdaten Gmbh'}]}]\n"
     ]
    }
   ],
   "source": [
    "customer_query = \"\"\"MATCH p=()-[:WORKED_AT]->() RETURN p LIMIT 25;\"\"\"\n",
    "results = graph.query(customer_query)\n",
    "print(results)"
   ]
  }
 ],
 "metadata": {
  "kernelspec": {
   "display_name": "3.10.13",
   "language": "python",
   "name": "python3"
  },
  "language_info": {
   "codemirror_mode": {
    "name": "ipython",
    "version": 3
   },
   "file_extension": ".py",
   "mimetype": "text/x-python",
   "name": "python",
   "nbconvert_exporter": "python",
   "pygments_lexer": "ipython3",
   "version": "3.10.13"
  }
 },
 "nbformat": 4,
 "nbformat_minor": 5
}
