{
 "cells": [
  {
   "cell_type": "markdown",
   "id": "9c14aac1",
   "metadata": {},
   "source": [
    "## 1. Learn Langchain\n",
    "\n",
    "https://www.youtube.com/watch?v=nAmC7SoVLd8\n"
   ]
  },
  {
   "cell_type": "code",
   "execution_count": 1,
   "id": "6157f02b",
   "metadata": {},
   "outputs": [],
   "source": [
    "from secret_key import openai_key\n",
    "import os\n",
    "os.environ['OPENAI_API_KEY'] = openai_key\n"
   ]
  },
  {
   "cell_type": "code",
   "execution_count": 2,
   "id": "47aa4157",
   "metadata": {},
   "outputs": [
    {
     "name": "stderr",
     "output_type": "stream",
     "text": [
      "/var/folders/zt/63tm27h17v75fy_47rqppsl40000gn/T/ipykernel_53572/2129428552.py:2: LangChainDeprecationWarning: The class `OpenAI` was deprecated in LangChain 0.0.10 and will be removed in 1.0. An updated version of the class exists in the :class:`~langchain-openai package and should be used instead. To use it run `pip install -U :class:`~langchain-openai` and import as `from :class:`~langchain_openai import OpenAI``.\n",
      "  llm = OpenAI(temperature=0.9)\n",
      "/var/folders/zt/63tm27h17v75fy_47rqppsl40000gn/T/ipykernel_53572/2129428552.py:3: LangChainDeprecationWarning: The method `BaseLLM.__call__` was deprecated in langchain-core 0.1.7 and will be removed in 1.0. Use :meth:`~invoke` instead.\n",
      "  llm(\"What would be a good company name for a company that makes colorful socks?\")\n"
     ]
    },
    {
     "data": {
      "text/plain": [
       "'\\n\\nRainbow Threads Sock Co.'"
      ]
     },
     "execution_count": 2,
     "metadata": {},
     "output_type": "execute_result"
    }
   ],
   "source": [
    "from langchain.llms import OpenAI\n",
    "llm = OpenAI(temperature=0.9)\n",
    "llm(\"What would be a good company name for a company that makes colorful socks?\")"
   ]
  },
  {
   "cell_type": "markdown",
   "id": "251c27c2",
   "metadata": {},
   "source": [
    "### 2. PromptTemplate"
   ]
  },
  {
   "cell_type": "code",
   "execution_count": 3,
   "id": "1c35a62f",
   "metadata": {},
   "outputs": [
    {
     "name": "stdout",
     "output_type": "stream",
     "text": [
      "I want to open a restaurant for Chinese food. Suggest a fancy name for this.\n"
     ]
    }
   ],
   "source": [
    "from langchain.prompts import PromptTemplate\n",
    "\n",
    "prompt_template_name = PromptTemplate(\n",
    "    input_variables =['cuisine'],\n",
    "    template = \"I want to open a restaurant for {cuisine} food. Suggest a fancy name for this.\"\n",
    ")\n",
    "p = prompt_template_name.format(cuisine=\"Chinese\")\n",
    "\n",
    "print(p)\n"
   ]
  },
  {
   "cell_type": "markdown",
   "id": "7a480075",
   "metadata": {},
   "source": [
    "### 3. Chains"
   ]
  },
  {
   "cell_type": "code",
   "execution_count": 4,
   "id": "8dcfbcdb",
   "metadata": {},
   "outputs": [
    {
     "name": "stderr",
     "output_type": "stream",
     "text": [
      "/var/folders/zt/63tm27h17v75fy_47rqppsl40000gn/T/ipykernel_53572/723744833.py:3: LangChainDeprecationWarning: The class `LLMChain` was deprecated in LangChain 0.1.17 and will be removed in 1.0. Use :meth:`~RunnableSequence, e.g., `prompt | llm`` instead.\n",
      "  chain = LLMChain(llm=llm, prompt=prompt_template_name)\n",
      "/var/folders/zt/63tm27h17v75fy_47rqppsl40000gn/T/ipykernel_53572/723744833.py:4: LangChainDeprecationWarning: The method `Chain.run` was deprecated in langchain 0.1.0 and will be removed in 1.0. Use :meth:`~invoke` instead.\n",
      "  chain.run(\"Mexican\")\n"
     ]
    },
    {
     "data": {
      "text/plain": [
       "'\\n\"El Sabroso Cantina\" or \"La Cocina de Mexico\"'"
      ]
     },
     "execution_count": 4,
     "metadata": {},
     "output_type": "execute_result"
    }
   ],
   "source": [
    "from langchain.chains import LLMChain\n",
    "\n",
    "chain = LLMChain(llm=llm, prompt=prompt_template_name)\n",
    "chain.run(\"Mexican\")"
   ]
  },
  {
   "cell_type": "code",
   "execution_count": 5,
   "id": "d3a5e70b",
   "metadata": {},
   "outputs": [
    {
     "name": "stdout",
     "output_type": "stream",
     "text": [
      "\n",
      "\n",
      "\u001b[1m> Entering new LLMChain chain...\u001b[0m\n",
      "Prompt after formatting:\n",
      "\u001b[32;1m\u001b[1;3mI want to open a restaurant for Mexican food. Suggest a fancy name for this.\u001b[0m\n",
      "\n",
      "\u001b[1m> Finished chain.\u001b[0m\n"
     ]
    },
    {
     "data": {
      "text/plain": [
       "'\\n\"La Cantina de Oro\" (The Golden Cantina)'"
      ]
     },
     "execution_count": 5,
     "metadata": {},
     "output_type": "execute_result"
    }
   ],
   "source": [
    "chain = LLMChain(llm=llm, prompt=prompt_template_name, verbose=True)\n",
    "chain.run(\"Mexican\")"
   ]
  },
  {
   "cell_type": "markdown",
   "id": "c18a77a8",
   "metadata": {},
   "source": [
    "### 4. SimpleSequentialChain"
   ]
  },
  {
   "cell_type": "code",
   "execution_count": 6,
   "id": "f27d2a85",
   "metadata": {},
   "outputs": [],
   "source": [
    "llm = OpenAI(temperature=0.6)\n",
    "\n",
    "prompt_template_name = PromptTemplate(\n",
    "    input_variables =['cuisine'],\n",
    "    template = \"I want to open a restaurant for {cuisine} food. Suggest a fancy name for this.\"\n",
    ")\n",
    "\n",
    "name_chain =LLMChain(llm=llm, prompt=prompt_template_name)\n",
    "\n",
    "prompt_template_items = PromptTemplate(\n",
    "    input_variables = ['restaurant_name'],\n",
    "    template=\"\"\"Suggest some menu items for {restaurant_name}\"\"\"\n",
    ")\n",
    "\n",
    "food_items_chain = LLMChain(llm=llm, prompt=prompt_template_items)"
   ]
  },
  {
   "cell_type": "code",
   "execution_count": 7,
   "id": "ece95819",
   "metadata": {},
   "outputs": [
    {
     "name": "stdout",
     "output_type": "stream",
     "text": [
      "\n",
      "\n",
      "1. General Tso's Chicken\n",
      "2. Mongolian Beef\n",
      "3. Kung Pao Shrimp\n",
      "4. Vegetable Fried Rice\n",
      "5. Sweet and Sour Pork\n",
      "6. Szechuan Tofu\n",
      "7. Egg Drop Soup\n",
      "8. Steamed Dumplings\n",
      "9. Lemon Chicken\n",
      "10. Beef and Broccoli\n",
      "11. Shrimp Lo Mein\n",
      "12. Hot and Sour Soup\n",
      "13. Sesame Chicken\n",
      "14. Garlic Green Beans\n",
      "15. Honey Walnut Shrimp\n",
      "16. Vegetable Spring Rolls\n",
      "17. Singapore Noodles\n",
      "18. Ma Po Tofu\n",
      "19. Peking Duck\n",
      "20. Fortune Cookies for dessert.\n"
     ]
    }
   ],
   "source": [
    "from langchain.chains import SimpleSequentialChain\n",
    "chain = SimpleSequentialChain(chains = [name_chain, food_items_chain])\n",
    "\n",
    "content = chain.run(\"Chinese\")\n",
    "print(content)"
   ]
  },
  {
   "cell_type": "markdown",
   "id": "287f6110",
   "metadata": {},
   "source": [
    "### 5. SequentialChain"
   ]
  },
  {
   "cell_type": "code",
   "execution_count": 8,
   "id": "5764e389",
   "metadata": {},
   "outputs": [],
   "source": [
    "llm = OpenAI(temperature=0.7)\n",
    "\n",
    "prompt_template_name = PromptTemplate(\n",
    "    input_variables =['cuisine'],\n",
    "    template = \"I want to open a restaurant for {cuisine} food. Suggest a fancy name for this.\"\n",
    ")\n",
    "\n",
    "name_chain =LLMChain(llm=llm, prompt=prompt_template_name, output_key=\"restaurant_name\")\n"
   ]
  },
  {
   "cell_type": "code",
   "execution_count": 9,
   "id": "f026f148",
   "metadata": {},
   "outputs": [],
   "source": [
    "llm = OpenAI(temperature=0.7)\n",
    "\n",
    "prompt_template_items = PromptTemplate(\n",
    "    input_variables = ['restaurant_name'],\n",
    "    template=\"Suggest some menu items for {restaurant_name}.\"\n",
    ")\n",
    "\n",
    "food_items_chain =LLMChain(llm=llm, prompt=prompt_template_items, output_key=\"menu_items\")"
   ]
  },
  {
   "cell_type": "code",
   "execution_count": 10,
   "id": "f8e7e8af",
   "metadata": {},
   "outputs": [],
   "source": [
    "from langchain.chains import SequentialChain\n",
    "\n",
    "chain = SequentialChain(\n",
    "    chains = [name_chain, food_items_chain],\n",
    "    input_variables = ['cuisine'],\n",
    "    output_variables = ['restaurant_name', \"menu_items\"]\n",
    ")"
   ]
  },
  {
   "cell_type": "code",
   "execution_count": 11,
   "id": "57fb2461",
   "metadata": {},
   "outputs": [
    {
     "name": "stderr",
     "output_type": "stream",
     "text": [
      "/var/folders/zt/63tm27h17v75fy_47rqppsl40000gn/T/ipykernel_53572/3925546723.py:1: LangChainDeprecationWarning: The method `Chain.__call__` was deprecated in langchain 0.1.0 and will be removed in 1.0. Use :meth:`~invoke` instead.\n",
      "  chain({\"cuisine\": \"Chinese\"})\n"
     ]
    },
    {
     "data": {
      "text/plain": [
       "{'cuisine': 'Chinese',\n",
       " 'restaurant_name': '\\n\\n\"Imperial Wok\"',\n",
       " 'menu_items': \" \\n\\n1. General Tso's Chicken \\n2. Orange Beef \\n3. Vegetable Lo Mein \\n4. Shrimp Fried Rice \\n5. Kung Pao Tofu \\n6. Sweet and Sour Pork \\n7. Beef and Broccoli \\n8. Sesame Chicken \\n9. Szechuan Shrimp \\n10. Vegetable Egg Rolls \\n11. Crab Rangoon \\n12. Mongolian Beef \\n13. Honey Walnut Shrimp \\n14. Hot and Sour Soup \\n15. Garlic Green Beans \\n16. Chicken Chow Mein \\n17. Spicy Mapo Tofu \\n18. Moo Shu Pork \\n19. Steamed Dumplings \\n20. Pineapple Chicken.\"}"
      ]
     },
     "execution_count": 11,
     "metadata": {},
     "output_type": "execute_result"
    }
   ],
   "source": [
    "chain({\"cuisine\": \"Chinese\"})"
   ]
  },
  {
   "cell_type": "markdown",
   "id": "7b955755",
   "metadata": {},
   "source": [
    "### 6. Agent"
   ]
  },
  {
   "cell_type": "code",
   "execution_count": 12,
   "id": "e00bc8c8",
   "metadata": {},
   "outputs": [
    {
     "name": "stderr",
     "output_type": "stream",
     "text": [
      "/var/folders/zt/63tm27h17v75fy_47rqppsl40000gn/T/ipykernel_53572/2039906735.py:4: LangChainDeprecationWarning: LangChain agents will continue to be supported, but it is recommended for new use cases to be built with LangGraph. LangGraph offers a more flexible and full-featured framework for building agents, including support for tool-calling, persistence of state, and human-in-the-loop workflows. For details, refer to the `LangGraph documentation <https://langchain-ai.github.io/langgraph/>`_ as well as guides for `Migrating from AgentExecutor <https://python.langchain.com/docs/how_to/migrate_agent/>`_ and LangGraph's `Pre-built ReAct agent <https://langchain-ai.github.io/langgraph/how-tos/create-react-agent/>`_.\n",
      "  agent = initialize_agent(\n"
     ]
    },
    {
     "name": "stdout",
     "output_type": "stream",
     "text": [
      "\n",
      "\n",
      "\u001b[1m> Entering new AgentExecutor chain...\u001b[0m\n",
      "\u001b[32;1m\u001b[1;3m First, we need to find out when Elon Musk was born.\n",
      "Action: wikipedia\n",
      "Action Input: elon musk\u001b[0m\n",
      "Observation: \u001b[36;1m\u001b[1;3mPage: Elon Musk\n",
      "Summary: Elon Reeve Musk ( EE-lon; born June 28, 1971) is a businessman and entrepreneur known for his leadership of Tesla, SpaceX, X (formerly Twitter), and xAI. Musk has been the wealthiest person in the world since 2021; as of October 2025, Forbes estimates his net worth to be US$500 billion.\n",
      "Born to a wealthy family in Pretoria, South Africa, Musk emigrated in 1989 to Canada; he had obtained Canadian citizenship at birth through his Canadian-born mother. He received bachelor's degrees in 1997 from the University of Pennsylvania in Philadelphia, United States, before moving to California to pursue business ventures. In 1995, Musk co-founded the software company Zip2. Following its sale in 1999, he co-founded X.com, an online payment company that later merged to form PayPal, which was acquired by eBay in 2002. That year, Musk also became an American citizen.\n",
      "In 2002, Musk founded the space technology company SpaceX, becoming its CEO and chief engineer; the company has since led innovations in reusable rockets and commercial spaceflight. Musk joined the automaker Tesla as an early investor in 2004 and became its CEO and product architect in 2008; it has since become a leader in electric vehicles. In 2015, he co-founded OpenAI to advance artificial intelligence (AI) research, but later left, growing discontent with the organization's direction and their leadership in the AI boom in the 2020s led him to establish xAI. In 2022, he acquired the social network Twitter, implementing significant changes, and rebranding it as X in 2023. His other businesses include the neurotechnology company Neuralink, which he co-founded in 2016, and the tunneling company the Boring Company, which he founded in 2017.\n",
      "Musk was the largest donor in the 2024 U.S. presidential election, and is a supporter of global far-right figures, causes, and political parties. In early 2025, he served as senior advisor to United States president Donald Trump and as the de facto head of DOGE. After a public feud with Trump, Musk left the Trump administration and returned to his technology companies.\n",
      "Musk's political activities, views, and statements have made him a polarizing figure, especially following the COVID-19 pandemic. He has been criticized for making unscientific and misleading statements, including COVID-19 misinformation and promoting conspiracy theories, and affirming antisemitic, racist, and transphobic comments. His acquisition of Twitter was controversial due to a subsequent increase in hate speech and the spread of misinformation on the service. His role in the second Trump administration attracted public backlash, particularly in response to DOGE.\n",
      "\n",
      "Page: Wealth of Elon Musk\n",
      "Summary: Elon Musk is the wealthiest person in the world, with an estimated net worth of US$470 billion as of October 2025, according to the Bloomberg Billionaires Index, and $500 billion according to Forbes, primarily from his ownership stakes in Tesla and SpaceX. \n",
      "Having been first listed on the Forbes Billionaires List in 2012, around 75% of Musk's wealth was derived from Tesla stock in November 2020. Describing himself as \"cash poor\", he became the first person in the world to have a net worth above $300 billion a year later. By December 2024, he became the first person to reach a net worth of $400 billion. In October 2025, Musk's net worth reached $500 billion according to Forbes.\n",
      "\n",
      "\n",
      "\n",
      "Page: Trump–Musk feud\n",
      "Summary: From June to September 2025, South African–born businessman and former presidential advisor Elon Musk and U.S. president Donald Trump engaged in a series of social media attacks, primarily across X (formerly Twitter) and Truth Social, following Musk's exit from the second Trump administration with his criticisms of the One Big Beautiful Bill Act, a bill intended to be landmark legislation for Trump.\n",
      "Prior to being political allies in 2024, Musk and Trump shared a history of mutual provocation. In 2022, Musk described Trump as an unsuitable presiden\u001b[0m\n",
      "Thought:\u001b[32;1m\u001b[1;3m Now, we need to calculate Elon Musk's current age in 2025.\n",
      "Action: Calculator\n",
      "Action Input: 2025-1971\u001b[0m\n",
      "Observation: \u001b[33;1m\u001b[1;3mAnswer: 54\u001b[0m\n",
      "Thought:\u001b[32;1m\u001b[1;3m I now know the final answer.\n",
      "Final Answer: Elon Musk's current age in 2025 will be 54 years old.\u001b[0m\n",
      "\n",
      "\u001b[1m> Finished chain.\u001b[0m\n"
     ]
    },
    {
     "data": {
      "text/plain": [
       "\"Elon Musk's current age in 2025 will be 54 years old.\""
      ]
     },
     "execution_count": 12,
     "metadata": {},
     "output_type": "execute_result"
    }
   ],
   "source": [
    "from langchain.agents import initialize_agent, load_tools, AgentType\n",
    "from langchain.llms import OpenAI\n",
    "tools =load_tools([\"wikipedia\",\"llm-math\"], llm=llm)\n",
    "agent = initialize_agent(\n",
    "    tools,\n",
    "    llm,\n",
    "    agent=AgentType.ZERO_SHOT_REACT_DESCRIPTION,\n",
    "    verbose=True\n",
    ")\n",
    "\n",
    "agent.run(\"when was elon musk born? what is his current age in 2025?\")\n",
    "                         "
   ]
  },
  {
   "cell_type": "markdown",
   "id": "7010447e",
   "metadata": {},
   "source": [
    "### 7. Google Search API"
   ]
  },
  {
   "cell_type": "code",
   "execution_count": null,
   "id": "c35f40aa",
   "metadata": {},
   "outputs": [
    {
     "name": "stdout",
     "output_type": "stream",
     "text": [
      "\n",
      "\n",
      "\u001b[1m> Entering new AgentExecutor chain...\u001b[0m\n",
      "\u001b[32;1m\u001b[1;3m I should use the search engine to find the US GDP for 2020 and 2019.\n",
      "Action: Search\n",
      "Action Input: \"US GDP 2020\" and \"US GDP 2019\"\u001b[0m\n",
      "Observation: \u001b[36;1m\u001b[1;3m['U.S. GDP for 2021 was 23.681 trillion US dollars, a 10.9% increase from 2020. U.S. GDP for 2020 was 21.354 trillion US dollars, a 0.86% decline from 2019. GDP ...', 'Current-dollar GDP increased 4.1 percent, or $848.8 billion, in 2019 to a level of $21.43 trillion, compared with an increase of 5.4 percent, ...', 'Gross domestic product (GDP), the featured measure of US output, is the market value of the goods and services produced by labor and property located in the ...', 'In the first quarter, real GDP decreased 0.6 percent (revised). The increase in real GDP in the second quarter primarily reflected a decrease in imports, which ...', 'GDP growth (annual %) - United States. Country official statistics, National Statistical Organizations and/or Central Banks; National Accounts data files.', 'GDP Growth Rate in the United States averaged 3.20 percent from 1947 until 2025, reaching an all time high of 34.90 percent in the third quarter of 2020 and a ...', 'GDP over the full year 2020 was 3.5 percent below its value over the full year of 2019. This is the largest contraction in GDP since 1946 as ...', 'GDP (current US$) from The World Bank: Data. ... 2020, 2019, 2018, 2017, 2016, 2015, 2014, 2013, 2012, 2011, 2010, 2009, 2008, 2007, 2006 ...', 'US GDP is at a current level of 30.49T, up from 30.04T last quarter and up from 29.15T one year ago. This is a change of 1.48% from last quarter and 4.59% ...']\u001b[0m\n",
      "Thought:\u001b[32;1m\u001b[1;3m I should use the calculator to find the difference between the two GDP values.\n",
      "Action: Calculator\n",
      "Action Input: \"21.354 trillion - 21.43 trillion\"\u001b[0m\n",
      "Observation: \u001b[33;1m\u001b[1;3mAnswer: -76000000000.0\u001b[0m\n",
      "Thought:\u001b[32;1m\u001b[1;3m I should convert the answer to a positive value.\n",
      "Action: Calculator\n",
      "Action Input: \"abs(-76000000000.0)\"\u001b[0m\n",
      "Observation: \u001b[33;1m\u001b[1;3mAnswer: 76000000000.0\u001b[0m\n",
      "Thought:\u001b[32;1m\u001b[1;3m I now know the final answer.\n",
      "Final Answer: The difference between the US GDP in 2020 and 2019 is approximately $76 billion.\u001b[0m\n",
      "\n",
      "\u001b[1m> Finished chain.\u001b[0m\n"
     ]
    },
    {
     "data": {
      "text/plain": [
       "'The difference between the US GDP in 2020 and 2019 is approximately $76 billion.'"
      ]
     },
     "execution_count": 13,
     "metadata": {},
     "output_type": "execute_result"
    }
   ],
   "source": [
    "import os\n",
    "from secret_key import serpapi_key\n",
    "from langchain.agents import initialize_agent, load_tools, AgentType\n",
    "from langchain.llms import OpenAI\n",
    "\n",
    "os.environ['SERPAPI_API_KEY'] = serpapi_key\n",
    "llm = OpenAI(temperature=0)\n",
    "tools = load_tools([\"serpapi\",\"llm-math\"], llm=llm)\n",
    "agent = initialize_agent(\n",
    "    tools,\n",
    "    llm,\n",
    "    agent=AgentType.ZERO_SHOT_REACT_DESCRIPTION,\n",
    "    verbose=True\n",
    ")\n",
    "\n",
    "agent.run(\"what was the US GDP in 2020? what about 2019? what is the difference between them?\")\n",
    "\n"
   ]
  }
 ],
 "metadata": {
  "kernelspec": {
   "display_name": "3.10.13",
   "language": "python",
   "name": "python3"
  },
  "language_info": {
   "codemirror_mode": {
    "name": "ipython",
    "version": 3
   },
   "file_extension": ".py",
   "mimetype": "text/x-python",
   "name": "python",
   "nbconvert_exporter": "python",
   "pygments_lexer": "ipython3",
   "version": "3.10.13"
  }
 },
 "nbformat": 4,
 "nbformat_minor": 5
}
