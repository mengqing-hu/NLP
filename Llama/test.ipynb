{
 "cells": [
  {
   "cell_type": "markdown",
   "id": "1c4d030c",
   "metadata": {},
   "source": [
    "## Chromadb"
   ]
  },
  {
   "cell_type": "code",
   "execution_count": 1,
   "id": "3c62691b",
   "metadata": {},
   "outputs": [],
   "source": [
    "import chromadb "
   ]
  },
  {
   "cell_type": "code",
   "execution_count": 2,
   "id": "d3074c58",
   "metadata": {},
   "outputs": [],
   "source": [
    "# client.delete_collection(name=\"my_collection\")\n",
    "# collection = client.create_collection(name=\"my_collection\")\n",
    "client = chromadb.Client()  #using the default in-memory backend\n",
    "collection = client.get_or_create_collection(name=\"my_collection\") #get an existing collection, or create it if it doesn't exist\n",
    "collection.add( \n",
    "    documents=[\"This document is about China\", \n",
    "                \"This document is about America\"], \n",
    "    ids=[\"id1\", \"id2\"]\n",
    ")\n"
   ]
  },
  {
   "cell_type": "code",
   "execution_count": 3,
   "id": "0cb8788a",
   "metadata": {},
   "outputs": [
    {
     "data": {
      "text/plain": [
       "{'ids': ['id1', 'id2'],\n",
       " 'embeddings': None,\n",
       " 'documents': ['This document is about China',\n",
       "  'This document is about America'],\n",
       " 'uris': None,\n",
       " 'included': ['metadatas', 'documents'],\n",
       " 'data': None,\n",
       " 'metadatas': [None, None]}"
      ]
     },
     "execution_count": 3,
     "metadata": {},
     "output_type": "execute_result"
    }
   ],
   "source": [
    "all_docs = collection.get() \n",
    "all_docs    #get all the documents in the collection"
   ]
  },
  {
   "cell_type": "code",
   "execution_count": 4,
   "id": "daebadb6",
   "metadata": {},
   "outputs": [
    {
     "data": {
      "text/plain": [
       "{'ids': ['id1'],\n",
       " 'embeddings': None,\n",
       " 'documents': ['This document is about China'],\n",
       " 'uris': None,\n",
       " 'included': ['metadatas', 'documents'],\n",
       " 'data': None,\n",
       " 'metadatas': [None]}"
      ]
     },
     "execution_count": 4,
     "metadata": {},
     "output_type": "execute_result"
    }
   ],
   "source": [
    "documents = collection.get(ids=[\"id1\"]) \n",
    "documents   #get the document with id \"id1\""
   ]
  },
  {
   "cell_type": "code",
   "execution_count": 5,
   "id": "a20b5d92",
   "metadata": {},
   "outputs": [
    {
     "data": {
      "text/plain": [
       "{'ids': [['id1', 'id2']],\n",
       " 'embeddings': None,\n",
       " 'documents': [['This document is about China',\n",
       "   'This document is about America']],\n",
       " 'uris': None,\n",
       " 'included': ['metadatas', 'documents', 'distances'],\n",
       " 'data': None,\n",
       " 'metadatas': [[None, None]],\n",
       " 'distances': [[1.1991695165634155, 1.8454222679138184]]}"
      ]
     },
     "execution_count": 5,
     "metadata": {},
     "output_type": "execute_result"
    }
   ],
   "source": [
    "results = collection.query(query_texts=[\"Jiaozi\"], n_results=2)\n",
    "results  #query the collection for documents most similar to \"Jiaozi\""
   ]
  },
  {
   "cell_type": "code",
   "execution_count": 6,
   "id": "c6c6a0a4",
   "metadata": {},
   "outputs": [
    {
     "data": {
      "text/plain": [
       "{'ids': ['id2'],\n",
       " 'embeddings': None,\n",
       " 'documents': ['This document is about America'],\n",
       " 'uris': None,\n",
       " 'included': ['metadatas', 'documents'],\n",
       " 'data': None,\n",
       " 'metadatas': [None]}"
      ]
     },
     "execution_count": 6,
     "metadata": {},
     "output_type": "execute_result"
    }
   ],
   "source": [
    "collection.delete(ids=[\"id1\"]) #delete the document with id \"id1\"\n",
    "collection.get()    #get all the documents in the collection, now only \"id2\" should remain"
   ]
  },
  {
   "cell_type": "code",
   "execution_count": 7,
   "id": "7226e781",
   "metadata": {},
   "outputs": [
    {
     "data": {
      "text/plain": [
       "{'ids': [],\n",
       " 'embeddings': None,\n",
       " 'documents': [],\n",
       " 'uris': None,\n",
       " 'included': ['metadatas', 'documents'],\n",
       " 'data': None,\n",
       " 'metadatas': []}"
      ]
     },
     "execution_count": 7,
     "metadata": {},
     "output_type": "execute_result"
    }
   ],
   "source": [
    "collection.delete(ids=all_docs['ids'])  #delete all the documents in the collection\n",
    "collection.get()    #get all the documents in the collection, now it should be empty"
   ]
  },
  {
   "cell_type": "code",
   "execution_count": 8,
   "id": "3973b47e",
   "metadata": {},
   "outputs": [],
   "source": [
    "collection.add( \n",
    "    documents=[\"This document is about China\",  \n",
    "                \"This document is about America,\"],\n",
    "    ids=[\"id1\", \"id2\"], \n",
    "    metadatas=[{\"url\": \"https://en.wikipedia.org/wiki/China\"},\n",
    "                {\"url\": \"https://en.wikipedia.org/wiki/United_States\"}]\n",
    ")   "
   ]
  },
  {
   "cell_type": "code",
   "execution_count": 9,
   "id": "914459a3",
   "metadata": {},
   "outputs": [
    {
     "data": {
      "text/plain": [
       "{'ids': ['id1', 'id2'],\n",
       " 'embeddings': None,\n",
       " 'documents': ['This document is about China',\n",
       "  'This document is about America,'],\n",
       " 'uris': None,\n",
       " 'included': ['metadatas', 'documents'],\n",
       " 'data': None,\n",
       " 'metadatas': [{'url': 'https://en.wikipedia.org/wiki/China'},\n",
       "  {'url': 'https://en.wikipedia.org/wiki/United_States'}]}"
      ]
     },
     "execution_count": 9,
     "metadata": {},
     "output_type": "execute_result"
    }
   ],
   "source": [
    "collection.get()    #get all the documents in the collection, now \"id1\" and \"id2\" should be back"
   ]
  },
  {
   "cell_type": "code",
   "execution_count": 10,
   "id": "42f8275a",
   "metadata": {},
   "outputs": [
    {
     "data": {
      "text/plain": [
       "{'ids': [['id1', 'id2']],\n",
       " 'embeddings': None,\n",
       " 'documents': [['This document is about China',\n",
       "   'This document is about America,']],\n",
       " 'uris': None,\n",
       " 'included': ['metadatas', 'documents', 'distances'],\n",
       " 'data': None,\n",
       " 'metadatas': [[{'url': 'https://en.wikipedia.org/wiki/China'},\n",
       "   {'url': 'https://en.wikipedia.org/wiki/United_States'}]],\n",
       " 'distances': [[1.1991695165634155, 1.8767603635787964]]}"
      ]
     },
     "execution_count": 10,
     "metadata": {},
     "output_type": "execute_result"
    }
   ],
   "source": [
    "results = collection.query(query_texts=[\"Jiaozi\"], n_results=2)\n",
    "results  #query the collection for documents most similar to \"Jiaozi\""
   ]
  },
  {
   "cell_type": "markdown",
   "id": "e29ca44b",
   "metadata": {},
   "source": [
    "## ChatGroq"
   ]
  },
  {
   "cell_type": "code",
   "execution_count": 11,
   "id": "5994379a",
   "metadata": {},
   "outputs": [
    {
     "name": "stderr",
     "output_type": "stream",
     "text": [
      "/Users/humengqing/.pyenv/versions/3.10.13/lib/python3.10/site-packages/tqdm/auto.py:21: TqdmWarning: IProgress not found. Please update jupyter and ipywidgets. See https://ipywidgets.readthedocs.io/en/stable/user_install.html\n",
      "  from .autonotebook import tqdm as notebook_tqdm\n"
     ]
    }
   ],
   "source": [
    "from langchain_groq import ChatGroq\n",
    "from secret_key import groq_api_key"
   ]
  },
  {
   "cell_type": "code",
   "execution_count": 12,
   "id": "7ca7f6c3",
   "metadata": {},
   "outputs": [
    {
     "name": "stdout",
     "output_type": "stream",
     "text": [
      "content='The first president of the United States of America is George Washington. He served from 1789 to 1797.' additional_kwargs={} response_metadata={'token_usage': {'completion_tokens': 25, 'prompt_tokens': 43, 'total_tokens': 68, 'completion_time': 0.066136524, 'prompt_time': 0.002184844, 'queue_time': 0.091735793, 'total_time': 0.068321368}, 'model_name': 'llama-3.3-70b-versatile', 'system_fingerprint': 'fp_155ab82e98', 'service_tier': 'on_demand', 'finish_reason': 'stop', 'logprobs': None} id='run--ff71215b-682c-4da4-849f-b3e4f2451c59-0' usage_metadata={'input_tokens': 43, 'output_tokens': 25, 'total_tokens': 68}\n"
     ]
    }
   ],
   "source": [
    "llm = ChatGroq(\n",
    "    temperature=0,\n",
    "    groq_api_key=groq_api_key,\n",
    "    model=\"llama-3.3-70b-versatile\",\n",
    ")   #initialize the Groq LLM\n",
    "response = llm.invoke(\"The firstt president of the USA is\")\n",
    "print(response)         \n",
    "    \n"
   ]
  },
  {
   "cell_type": "markdown",
   "id": "60e3aa15",
   "metadata": {},
   "source": [
    "## WebBaseLoader"
   ]
  },
  {
   "cell_type": "code",
   "execution_count": 13,
   "id": "2be9a870",
   "metadata": {},
   "outputs": [
    {
     "name": "stderr",
     "output_type": "stream",
     "text": [
      "USER_AGENT environment variable not set, consider setting it to identify your requests.\n"
     ]
    }
   ],
   "source": [
    "from langchain_community.document_loaders import WebBaseLoader"
   ]
  },
  {
   "cell_type": "code",
   "execution_count": 14,
   "id": "1e07834b",
   "metadata": {},
   "outputs": [
    {
     "name": "stdout",
     "output_type": "stream",
     "text": [
      "Multimodal Algo Researcher Intern (AI Innovation Center) - 2026 Start (PhD)#LifeAtTikTok#LifeAtTikTokDiversity & InclusionOur PhilosophyTeamsAdvertising & SalesCorporate FunctionsDesignE-CommerceEngineering & TechnologyGlobal OperationsMarketing & CommunicationsProductTikTok  U.S. Data SecurityHow we hireApplying to TikTokInterview tipsFAQLocationsEarly CareersBlogJobsApplyCompanyAbout TikTokNewsroomContactProgramsTikTok for GoodTikTok for DevelopersEffect HouseAdvertise on TikTokTikTok RewardsTikTok BrowseTikTok EmbedsResourcesHelp centerSafety CenterCreator PortalCommunity GuidelinesTransparencyAccessibilityLegalPrivacy PolicyCandidate Privacy Policy Terms of ServiceEnglish日本語Join us as we inspire creativity and bring joy to millions of users worldwide.Ready for a career at TikTok?Discover a career that energizes and excites you every day.Search nowCompanyAbout TikTokNewsroomContactProgramsTikTok for GoodTikTok for DevelopersEffect HouseAdvertise on TikTokTikTok RewardsTikTok BrowseTikTok EmbedsResourcesHelp centerSafety CenterCreator PortalCommunity GuidelinesTransparencyAccessibilityLegalPrivacy PolicyCandidate Privacy Policy Terms of ServiceEnglish日本語@2025 TikTokTechnologyMultimodal Algo Researcher Intern (AI Innovation Center) - 2026 Start (PhD)Location:SingaporeEmployment Type:InternJob Code:A142664AApply to this jobShare this listing:ResponsibilitiesAbout The Team:\n",
      "The mission of the TikTok Eng-AI Innovation Center is to explore cutting-edge AGI technologies, including but not limited to LLM, multi-modal LLM (video/image/audio/text/code), etc., to let machine better understand user creations on Tiktok platform. Regarding to video/image/audio/text, enhanced content understanding can bring better user experience of searching, recommendation, and can more accurately identify and defend internet abuse and fraud on our platform. Regarding to code, our developed LLM aims to automatically re-organize/optimize Tiktok codebase, and make the code/coding become more accessible for Tiktok engineers. \n",
      "\n",
      "We are looking for talented individuals to join us for an internship in 2026. PhD Internships at TikTok aim to provide students with the opportunity to actively contribute to our products and research, and to the organization's future plans and emerging technologies.\n",
      "\n",
      "PhD internships at TikTok provide students with the opportunity to actively contribute to our products and research, and to the organization's future plans and emerging technologies. Our dynamic internship experience blends hands-on learning, enriching community-building and development events, and collaboration with industry experts.\n",
      "Applications will be reviewed on a rolling basis - we encourage you to apply early. Please state your availability clearly in your resume (Start date, End date).\n",
      "\n",
      "The main job directions include:\n",
      " - Drive core technology development for large language model code direction, continuously optimizing code comprehension, reasoning, and generation capabilities.\n",
      "- Focus on improving code comprehension, reasoning, and generation capabilities in real-world production codebases, improving TikTok service code performance and privacy compliance.\n",
      "- Explore Code Agent capabilities suitable for actual business production environments, and improve TikTok R&D efficiency.QualificationsMinimum Qualifications\n",
      "1. PHD with top AI conference papers in ML/CV/NLP are required; \n",
      "2. Excellent coding ability, data structures, and fundamental algorithm skills, proficient in C/C++ or Python, winners of competitions such as ACM/ICPC, NOI/IOI, Top Coder, Kaggle, etc. are preferred\n",
      "3. In-depth research experience in Machine Learning, with a particular emphasis on Large Language Models (LLMs) and Generative AI\n",
      "4. Excellent ability to analyze and solve problems, and be passionate about solving challenging problems\n",
      "\n",
      "Preferred Qualification：\n",
      "1. Passion for technology, good communication skills and team spirit\n",
      "\n",
      "By submitting an application for this role, you accept and agree to our global applicant privacy policy, which may be accessed here: https://careers.tiktok.com/legal/privacy\n",
      "\n",
      "If you have any questions, please reach out to us at apac-earlycareers@tiktok.com.Job InformationAbout TikTokTikTok is the leading destination for short-form mobile video. At TikTok, our mission is to inspire creativity and bring joy. TikTok's global headquarters are in Los Angeles and Singapore, and we also have offices in New York City, London, Dublin, Paris, Berlin, Dubai, Jakarta, Seoul, and Tokyo.​Why Join UsInspiring creativity is at the core of TikTok's mission. Our innovative product is built to help people authentically express themselves, discover and connect – and our global, diverse teams make that possible. Together, we create value for our communities, inspire creativity and bring joy - a mission we work towards every day.​We strive to do great things with great people. We lead with curiosity, humility, and a desire to make impact in a rapidly growing tech company. Every challenge is an opportunity to learn and innovate as one team. We're resilient and embrace challenges as they come. By constantly iterating and fostering an \"Always Day 1\" mindset, we achieve meaningful breakthroughs for ourselves, our company, and our users. When we create and grow together, the possibilities are limitless. Join us.​​Diversity & Inclusion​TikTok is committed to creating an inclusive space where employees are valued for their skills, experiences, and unique perspectives. Our platform connects people from across the globe and so does our workplace. At TikTok, our mission is to inspire creativity and bring joy. To achieve that goal, we are committed to celebrating our diverse voices and to creating an environment that reflects the many communities we reach. We are passionate about this and hope you are too.​Apply to this job\n"
     ]
    }
   ],
   "source": [
    "loader = WebBaseLoader(\"https://lifeattiktok.com/search/7533507587720726791\")\n",
    "data = loader.load().pop().page_content #load the webpage and get the text content\n",
    "# print(data[0].page_content)\n",
    "print(data)    "
   ]
  },
  {
   "cell_type": "markdown",
   "id": "4e193e24",
   "metadata": {},
   "source": [
    "## PromptTemplate"
   ]
  },
  {
   "cell_type": "code",
   "execution_count": 15,
   "id": "0fee45c5",
   "metadata": {},
   "outputs": [],
   "source": [
    "from langchain_core.prompts import PromptTemplate"
   ]
  },
  {
   "cell_type": "code",
   "execution_count": 16,
   "id": "5419e7e4",
   "metadata": {},
   "outputs": [
    {
     "name": "stdout",
     "output_type": "stream",
     "text": [
      "```json\n",
      "{\n",
      "  \"role\": \"Multimodal Algo Researcher Intern (AI Innovation Center)\",\n",
      "  \"experience\": \"PhD\",\n",
      "  \"skills\": [\n",
      "    \"Machine Learning\",\n",
      "    \"Large Language Models (LLMs)\",\n",
      "    \"Generative AI\",\n",
      "    \"C/C++\",\n",
      "    \"Python\",\n",
      "    \"Data structures\",\n",
      "    \"Fundamental algorithm skills\"\n",
      "  ],\n",
      "  \"description\": \"Drive core technology development for large language model code direction, continuously optimizing code comprehension, reasoning, and generation capabilities. Focus on improving code comprehension, reasoning, and generation capabilities in real-world production codebases, improving TikTok service code performance and privacy compliance. Explore Code Agent capabilities suitable for actual business production environments, and improve TikTok R&D efficiency.\"\n",
      "}\n",
      "```\n"
     ]
    }
   ],
   "source": [
    "prompt_extract = PromptTemplate.from_template(\n",
    "    \"\"\"\n",
    "        ### SCRAPED TEXT FROM WEBSITE:\n",
    "        {page_data}\n",
    "        ### INSTRUCTION:\n",
    "        The scraped text is from the career's page of a website.\n",
    "        Your job is to extract the job postings and return them in JSON format containing the \n",
    "        following keys: `role`, `experience`, `skills` and `description`.\n",
    "        Only return the valid JSON.\n",
    "        ### VALID JSON (NO PREAMBLE):    \n",
    "        \"\"\"\n",
    ")\n",
    "\n",
    "chain_extract = prompt_extract | llm\n",
    "res = chain_extract.invoke(input={'page_data': data})\n",
    "print(res.content)"
   ]
  },
  {
   "cell_type": "code",
   "execution_count": 17,
   "id": "25bca336",
   "metadata": {},
   "outputs": [
    {
     "data": {
      "text/plain": [
       "str"
      ]
     },
     "execution_count": 17,
     "metadata": {},
     "output_type": "execute_result"
    }
   ],
   "source": [
    "type(res.content)"
   ]
  },
  {
   "cell_type": "markdown",
   "id": "bbb92dbb",
   "metadata": {},
   "source": [
    "## JsonOutputParser"
   ]
  },
  {
   "cell_type": "code",
   "execution_count": 18,
   "id": "399e0415",
   "metadata": {},
   "outputs": [],
   "source": [
    "from langchain_core.output_parsers import JsonOutputParser"
   ]
  },
  {
   "cell_type": "code",
   "execution_count": 19,
   "id": "8c9f66dc",
   "metadata": {},
   "outputs": [
    {
     "data": {
      "text/plain": [
       "{'role': 'Multimodal Algo Researcher Intern (AI Innovation Center)',\n",
       " 'experience': 'PhD',\n",
       " 'skills': ['Machine Learning',\n",
       "  'Large Language Models (LLMs)',\n",
       "  'Generative AI',\n",
       "  'C/C++',\n",
       "  'Python',\n",
       "  'Data structures',\n",
       "  'Fundamental algorithm skills'],\n",
       " 'description': 'Drive core technology development for large language model code direction, continuously optimizing code comprehension, reasoning, and generation capabilities. Focus on improving code comprehension, reasoning, and generation capabilities in real-world production codebases, improving TikTok service code performance and privacy compliance. Explore Code Agent capabilities suitable for actual business production environments, and improve TikTok R&D efficiency.'}"
      ]
     },
     "execution_count": 19,
     "metadata": {},
     "output_type": "execute_result"
    }
   ],
   "source": [
    "json_parser = JsonOutputParser()\n",
    "json_res = json_parser.parse(res.content)\n",
    "json_res"
   ]
  },
  {
   "cell_type": "code",
   "execution_count": 20,
   "id": "ddd407e5",
   "metadata": {},
   "outputs": [
    {
     "data": {
      "text/plain": [
       "dict"
      ]
     },
     "execution_count": 20,
     "metadata": {},
     "output_type": "execute_result"
    }
   ],
   "source": [
    "type(json_res)"
   ]
  },
  {
   "cell_type": "code",
   "execution_count": 21,
   "id": "b5de1f2b",
   "metadata": {},
   "outputs": [],
   "source": [
    "import pandas as pd"
   ]
  },
  {
   "cell_type": "code",
   "execution_count": null,
   "id": "7ee16e2d",
   "metadata": {},
   "outputs": [
    {
     "data": {
      "text/html": [
       "<div>\n",
       "<style scoped>\n",
       "    .dataframe tbody tr th:only-of-type {\n",
       "        vertical-align: middle;\n",
       "    }\n",
       "\n",
       "    .dataframe tbody tr th {\n",
       "        vertical-align: top;\n",
       "    }\n",
       "\n",
       "    .dataframe thead th {\n",
       "        text-align: right;\n",
       "    }\n",
       "</style>\n",
       "<table border=\"1\" class=\"dataframe\">\n",
       "  <thead>\n",
       "    <tr style=\"text-align: right;\">\n",
       "      <th></th>\n",
       "      <th>Techstack</th>\n",
       "      <th>Links</th>\n",
       "    </tr>\n",
       "  </thead>\n",
       "  <tbody>\n",
       "    <tr>\n",
       "      <th>0</th>\n",
       "      <td>React, Node.js, MongoDB</td>\n",
       "      <td>https://example.com/react-portfolio</td>\n",
       "    </tr>\n",
       "    <tr>\n",
       "      <th>1</th>\n",
       "      <td>Angular,.NET, SQL Server</td>\n",
       "      <td>https://example.com/angular-portfolio</td>\n",
       "    </tr>\n",
       "    <tr>\n",
       "      <th>2</th>\n",
       "      <td>Vue.js, Ruby on Rails, PostgreSQL</td>\n",
       "      <td>https://example.com/vue-portfolio</td>\n",
       "    </tr>\n",
       "    <tr>\n",
       "      <th>3</th>\n",
       "      <td>Python, Django, MySQL</td>\n",
       "      <td>https://example.com/python-portfolio</td>\n",
       "    </tr>\n",
       "    <tr>\n",
       "      <th>4</th>\n",
       "      <td>Java, Spring Boot, Oracle</td>\n",
       "      <td>https://example.com/java-portfolio</td>\n",
       "    </tr>\n",
       "    <tr>\n",
       "      <th>5</th>\n",
       "      <td>Flutter, Firebase, GraphQL</td>\n",
       "      <td>https://example.com/flutter-portfolio</td>\n",
       "    </tr>\n",
       "    <tr>\n",
       "      <th>6</th>\n",
       "      <td>WordPress, PHP, MySQL</td>\n",
       "      <td>https://example.com/wordpress-portfolio</td>\n",
       "    </tr>\n",
       "    <tr>\n",
       "      <th>7</th>\n",
       "      <td>Magento, PHP, MySQL</td>\n",
       "      <td>https://example.com/magento-portfolio</td>\n",
       "    </tr>\n",
       "    <tr>\n",
       "      <th>8</th>\n",
       "      <td>React Native, Node.js, MongoDB</td>\n",
       "      <td>https://example.com/react-native-portfolio</td>\n",
       "    </tr>\n",
       "    <tr>\n",
       "      <th>9</th>\n",
       "      <td>iOS, Swift, Core Data</td>\n",
       "      <td>https://example.com/ios-portfolio</td>\n",
       "    </tr>\n",
       "    <tr>\n",
       "      <th>10</th>\n",
       "      <td>Android, Java, Room Persistence</td>\n",
       "      <td>https://example.com/android-portfolio</td>\n",
       "    </tr>\n",
       "    <tr>\n",
       "      <th>11</th>\n",
       "      <td>Kotlin, Android, Firebase</td>\n",
       "      <td>https://example.com/kotlin-android-portfolio</td>\n",
       "    </tr>\n",
       "    <tr>\n",
       "      <th>12</th>\n",
       "      <td>Android TV, Kotlin, Android NDK</td>\n",
       "      <td>https://example.com/android-tv-portfolio</td>\n",
       "    </tr>\n",
       "    <tr>\n",
       "      <th>13</th>\n",
       "      <td>iOS, Swift, ARKit</td>\n",
       "      <td>https://example.com/ios-ar-portfolio</td>\n",
       "    </tr>\n",
       "    <tr>\n",
       "      <th>14</th>\n",
       "      <td>Cross-platform, Xamarin, Azure</td>\n",
       "      <td>https://example.com/xamarin-portfolio</td>\n",
       "    </tr>\n",
       "    <tr>\n",
       "      <th>15</th>\n",
       "      <td>Backend, Kotlin, Spring Boot</td>\n",
       "      <td>https://example.com/kotlin-backend-portfolio</td>\n",
       "    </tr>\n",
       "    <tr>\n",
       "      <th>16</th>\n",
       "      <td>Frontend, TypeScript, Angular</td>\n",
       "      <td>https://example.com/typescript-frontend-portfolio</td>\n",
       "    </tr>\n",
       "    <tr>\n",
       "      <th>17</th>\n",
       "      <td>Full-stack, JavaScript, Express.js</td>\n",
       "      <td>https://example.com/full-stack-js-portfolio</td>\n",
       "    </tr>\n",
       "    <tr>\n",
       "      <th>18</th>\n",
       "      <td>Machine Learning, Python, TensorFlow</td>\n",
       "      <td>https://example.com/ml-python-portfolio</td>\n",
       "    </tr>\n",
       "    <tr>\n",
       "      <th>19</th>\n",
       "      <td>DevOps, Jenkins, Docker</td>\n",
       "      <td>https://example.com/devops-portfolio</td>\n",
       "    </tr>\n",
       "  </tbody>\n",
       "</table>\n",
       "</div>"
      ],
      "text/plain": [
       "                               Techstack  \\\n",
       "0                React, Node.js, MongoDB   \n",
       "1               Angular,.NET, SQL Server   \n",
       "2      Vue.js, Ruby on Rails, PostgreSQL   \n",
       "3                  Python, Django, MySQL   \n",
       "4              Java, Spring Boot, Oracle   \n",
       "5             Flutter, Firebase, GraphQL   \n",
       "6                  WordPress, PHP, MySQL   \n",
       "7                    Magento, PHP, MySQL   \n",
       "8         React Native, Node.js, MongoDB   \n",
       "9                  iOS, Swift, Core Data   \n",
       "10       Android, Java, Room Persistence   \n",
       "11             Kotlin, Android, Firebase   \n",
       "12       Android TV, Kotlin, Android NDK   \n",
       "13                     iOS, Swift, ARKit   \n",
       "14        Cross-platform, Xamarin, Azure   \n",
       "15          Backend, Kotlin, Spring Boot   \n",
       "16         Frontend, TypeScript, Angular   \n",
       "17    Full-stack, JavaScript, Express.js   \n",
       "18  Machine Learning, Python, TensorFlow   \n",
       "19               DevOps, Jenkins, Docker   \n",
       "\n",
       "                                                Links  \n",
       "0                 https://example.com/react-portfolio  \n",
       "1               https://example.com/angular-portfolio  \n",
       "2                   https://example.com/vue-portfolio  \n",
       "3                https://example.com/python-portfolio  \n",
       "4                  https://example.com/java-portfolio  \n",
       "5               https://example.com/flutter-portfolio  \n",
       "6             https://example.com/wordpress-portfolio  \n",
       "7               https://example.com/magento-portfolio  \n",
       "8          https://example.com/react-native-portfolio  \n",
       "9                   https://example.com/ios-portfolio  \n",
       "10              https://example.com/android-portfolio  \n",
       "11       https://example.com/kotlin-android-portfolio  \n",
       "12           https://example.com/android-tv-portfolio  \n",
       "13               https://example.com/ios-ar-portfolio  \n",
       "14              https://example.com/xamarin-portfolio  \n",
       "15       https://example.com/kotlin-backend-portfolio  \n",
       "16  https://example.com/typescript-frontend-portfolio  \n",
       "17        https://example.com/full-stack-js-portfolio  \n",
       "18            https://example.com/ml-python-portfolio  \n",
       "19               https://example.com/devops-portfolio  "
      ]
     },
     "execution_count": 22,
     "metadata": {},
     "output_type": "execute_result"
    }
   ],
   "source": [
    "df= pd.read_csv('my_portfolio.csv')\n",
    "df"
   ]
  },
  {
   "cell_type": "code",
   "execution_count": 23,
   "id": "9e000b8b",
   "metadata": {},
   "outputs": [],
   "source": [
    "import chromadb\n",
    "import uuid #for generating unique IDs"
   ]
  },
  {
   "cell_type": "code",
   "execution_count": 24,
   "id": "8ab216bf",
   "metadata": {},
   "outputs": [],
   "source": [
    "client = chromadb.PersistentClient('vectorstore')  \n",
    "collection = client.get_or_create_collection(name=\"portfolio_collection\")\n",
    "\n",
    "if not collection.count():\n",
    "    for _, row in df.iterrows():\n",
    "        collection.add(\n",
    "            documents=row['Techstack'],\n",
    "            metadatas={\"links\" : row['Links']},\n",
    "            ids=[str(uuid.uuid4())]\n",
    "        )   "
   ]
  },
  {
   "cell_type": "code",
   "execution_count": 25,
   "id": "d057bd90",
   "metadata": {},
   "outputs": [
    {
     "data": {
      "text/plain": [
       "{'ids': [['ca10dabc-646a-4de9-aec5-591f574543b0',\n",
       "   '25d024f5-4125-4f6a-a4d5-4afc2aed414f',\n",
       "   '745fecc4-ca88-4bd6-8ddb-754b69b559cf']],\n",
       " 'embeddings': None,\n",
       " 'documents': [['Machine Learning, Python, TensorFlow',\n",
       "   'Python, Django, MySQL',\n",
       "   'Magento, PHP, MySQL']],\n",
       " 'uris': None,\n",
       " 'included': ['metadatas', 'documents', 'distances'],\n",
       " 'data': None,\n",
       " 'metadatas': [[{'links': 'https://example.com/ml-python-portfolio'},\n",
       "   {'links': 'https://example.com/python-portfolio'},\n",
       "   {'links': 'https://example.com/magento-portfolio'}]],\n",
       " 'distances': [[0.43525269627571106, 1.2631328105926514, 1.6880728006362915]]}"
      ]
     },
     "execution_count": 25,
     "metadata": {},
     "output_type": "execute_result"
    }
   ],
   "source": [
    "links = collection.query(\n",
    "    query_texts=[\"Python, Machine Learning\"],\n",
    "    n_results=3\n",
    ")\n",
    "links   "
   ]
  },
  {
   "cell_type": "code",
   "execution_count": 26,
   "id": "b6ce81ae",
   "metadata": {},
   "outputs": [
    {
     "data": {
      "text/plain": [
       "[[{'links': 'https://example.com/ml-python-portfolio'},\n",
       "  {'links': 'https://example.com/python-portfolio'},\n",
       "  {'links': 'https://example.com/magento-portfolio'}]]"
      ]
     },
     "execution_count": 26,
     "metadata": {},
     "output_type": "execute_result"
    }
   ],
   "source": [
    "links = collection.query(\n",
    "    query_texts=[\"Python, Machine Learning\"],\n",
    "    n_results=3\n",
    ").get('metadatas', [])\n",
    "links   "
   ]
  },
  {
   "cell_type": "code",
   "execution_count": 27,
   "id": "0232b0d4",
   "metadata": {},
   "outputs": [
    {
     "data": {
      "text/plain": [
       "[[{'links': 'https://example.com/ml-python-portfolio'},\n",
       "  {'links': 'https://example.com/python-portfolio'},\n",
       "  {'links': 'https://example.com/magento-portfolio'}]]"
      ]
     },
     "execution_count": 27,
     "metadata": {},
     "output_type": "execute_result"
    }
   ],
   "source": [
    "links = collection.query(\n",
    "    query_texts=[\"Python, Machine Learning\"],\n",
    "    n_results=3\n",
    ")\n",
    "links.get('metadatas', [])"
   ]
  },
  {
   "cell_type": "code",
   "execution_count": 28,
   "id": "665d246f",
   "metadata": {},
   "outputs": [
    {
     "data": {
      "text/plain": [
       "['Machine Learning',\n",
       " 'Large Language Models (LLMs)',\n",
       " 'Generative AI',\n",
       " 'C/C++',\n",
       " 'Python',\n",
       " 'Data structures',\n",
       " 'Fundamental algorithm skills']"
      ]
     },
     "execution_count": 28,
     "metadata": {},
     "output_type": "execute_result"
    }
   ],
   "source": [
    "job = json_res\n",
    "job['skills']"
   ]
  },
  {
   "cell_type": "code",
   "execution_count": 29,
   "id": "07048bac",
   "metadata": {},
   "outputs": [
    {
     "data": {
      "text/plain": [
       "[[{'links': 'https://example.com/ml-python-portfolio'},\n",
       "  {'links': 'https://example.com/wordpress-portfolio'},\n",
       "  {'links': 'https://example.com/magento-portfolio'}],\n",
       " [{'links': 'https://example.com/ml-python-portfolio'},\n",
       "  {'links': 'https://example.com/android-portfolio'},\n",
       "  {'links': 'https://example.com/java-portfolio'}],\n",
       " [{'links': 'https://example.com/ml-python-portfolio'},\n",
       "  {'links': 'https://example.com/android-portfolio'},\n",
       "  {'links': 'https://example.com/ios-ar-portfolio'}],\n",
       " [{'links': 'https://example.com/magento-portfolio'},\n",
       "  {'links': 'https://example.com/wordpress-portfolio'},\n",
       "  {'links': 'https://example.com/ml-python-portfolio'}],\n",
       " [{'links': 'https://example.com/ml-python-portfolio'},\n",
       "  {'links': 'https://example.com/python-portfolio'},\n",
       "  {'links': 'https://example.com/magento-portfolio'}],\n",
       " [{'links': 'https://example.com/ios-portfolio'},\n",
       "  {'links': 'https://example.com/magento-portfolio'},\n",
       "  {'links': 'https://example.com/wordpress-portfolio'}],\n",
       " [{'links': 'https://example.com/ml-python-portfolio'},\n",
       "  {'links': 'https://example.com/magento-portfolio'},\n",
       "  {'links': 'https://example.com/devops-portfolio'}]]"
      ]
     },
     "execution_count": 29,
     "metadata": {},
     "output_type": "execute_result"
    }
   ],
   "source": [
    "links = collection.query(\n",
    "    query_texts=job['skills'],\n",
    "    n_results=3\n",
    ").get('metadatas', [])\n",
    "links"
   ]
  },
  {
   "cell_type": "code",
   "execution_count": 30,
   "id": "b793a3db",
   "metadata": {},
   "outputs": [
    {
     "data": {
      "text/plain": [
       "{'role': 'Multimodal Algo Researcher Intern (AI Innovation Center)',\n",
       " 'experience': 'PhD',\n",
       " 'skills': ['Machine Learning',\n",
       "  'Large Language Models (LLMs)',\n",
       "  'Generative AI',\n",
       "  'C/C++',\n",
       "  'Python',\n",
       "  'Data structures',\n",
       "  'Fundamental algorithm skills'],\n",
       " 'description': 'Drive core technology development for large language model code direction, continuously optimizing code comprehension, reasoning, and generation capabilities. Focus on improving code comprehension, reasoning, and generation capabilities in real-world production codebases, improving TikTok service code performance and privacy compliance. Explore Code Agent capabilities suitable for actual business production environments, and improve TikTok R&D efficiency.'}"
      ]
     },
     "execution_count": 30,
     "metadata": {},
     "output_type": "execute_result"
    }
   ],
   "source": [
    "job"
   ]
  },
  {
   "cell_type": "code",
   "execution_count": 31,
   "id": "7fef2c94",
   "metadata": {},
   "outputs": [
    {
     "name": "stdout",
     "output_type": "stream",
     "text": [
      "Subject: Application for Multimodal Algo Researcher Intern (AI Innovation Center)\n",
      "\n",
      "Dear Hiring Manager,\n",
      "\n",
      "I am Mengqing Hu, a Master's student in Visual Computing at TU Dresden, with a strong background in AI, Machine Learning, NLP, and Computer Vision. I am excited to apply for the Multimodal Algo Researcher Intern position at the AI Innovation Center, where I can leverage my skills to drive core technology development and improve code comprehension, reasoning, and generation capabilities.\n",
      "\n",
      "With hands-on experience in developing and deploying intelligent systems, I am confident in my ability to automate analysis, optimize performance, and integrate advanced algorithms into production-ready solutions. My experience working on projects involving semantic search (LangChain + Elasticsearch), Autoencoder-based feature extraction, Django web development, and AI-driven document retrieval pipelines has equipped me with the skills to tackle complex problems and deliver innovative solutions.\n",
      "\n",
      "As a researcher with experience at Fraunhofer IWU, FSD Fahrzeugsystemdaten GmbH, and the Institute of Mechatronic Engineering at TU Dresden, I possess a unique blend of academic and industry expertise. My proficiency in Machine Learning, Python, and Data structures, as well as my understanding of Fundamental algorithm skills, aligns with the requirements of this role.\n",
      "\n",
      "I would like to showcase some of my previous projects, which demonstrate my capabilities in Machine Learning and Python. You can find my portfolio at https://example.com/ml-python-portfolio, which highlights my experience in developing and deploying AI-driven solutions. Additionally, my experience with Django web development can be found at https://example.com/wordpress-portfolio, and my work on AI-driven document retrieval pipelines is showcased at https://example.com/ml-python-portfolio.\n",
      "\n",
      "I am particularly drawn to this role because of the opportunity to work on large language model code direction, improving code comprehension, reasoning, and generation capabilities in real-world production codebases. I am excited about the prospect of exploring Code Agent capabilities and improving TikTok R&D efficiency.\n",
      "\n",
      "Thank you for considering my application. I would welcome the opportunity to discuss my qualifications further and explore how my skills and experience align with the requirements of this role.\n",
      "\n",
      "Best regards,\n",
      "Mengqing Hu\n",
      "Master's student in Visual Computing, TU Dresden\n"
     ]
    }
   ],
   "source": [
    "from langchain_core.prompts import PromptTemplate\n",
    "prompt_email = PromptTemplate.from_template(\n",
    "    \"\"\"\n",
    "    ### JOB DESCRIPTION:\n",
    "    {job_description}\n",
    "\n",
    "        ### INSTRUCTION:\n",
    "        You are **Mengqing Hu**, a **Master’s student in CMS(Visual Computing)** at **TU Dresden**, with hands-on experience in **AI, Machine Learning, NLP, and Computer Vision**.  \n",
    "        You have worked on projects involving **semantic search (LangChain + Elasticsearch)**, **Autoencoder-based feature extraction**, **Django web development**, and **AI-driven document retrieval pipelines**.  \n",
    "        Drawing from your experience at **Fraunhofer IWU**, **FSD Fahrzeugsystemdaten GmbH**, and the **Institute of Mechatronic Engineering at TU Dresden**, you are skilled in developing and deploying intelligent systems that automate analysis, optimize performance, and integrate advanced algorithms into production-ready solutions.  \n",
    "        Your task is to write a cold email to the client regarding the job mentioned above, describing your background and capability in fulfilling their needs.  \n",
    "        Also add the most relevant ones from the following links to showcase your previous projects or portfolio: {link_list}  \n",
    "        Remember you are **Mengqing Hu** from **TU Dresden**.  \n",
    "        Do not provide a preamble.  \n",
    "        ### EMAIL (NO PREAMBLE):\n",
    "        \n",
    "        \"\"\"\n",
    ")\n",
    "\n",
    "chain_email = prompt_email | llm\n",
    "res = chain_email.invoke(input={'job_description': job, 'link_list': links})\n",
    "print(res.content)"
   ]
  },
  {
   "cell_type": "code",
   "execution_count": null,
   "id": "4497f547",
   "metadata": {},
   "outputs": [],
   "source": []
  }
 ],
 "metadata": {
  "kernelspec": {
   "display_name": "3.10.13",
   "language": "python",
   "name": "python3"
  },
  "language_info": {
   "codemirror_mode": {
    "name": "ipython",
    "version": 3
   },
   "file_extension": ".py",
   "mimetype": "text/x-python",
   "name": "python",
   "nbconvert_exporter": "python",
   "pygments_lexer": "ipython3",
   "version": "3.10.13"
  }
 },
 "nbformat": 4,
 "nbformat_minor": 5
}
